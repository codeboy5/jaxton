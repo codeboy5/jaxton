{
 "cells": [
  {
   "cell_type": "markdown",
   "metadata": {},
   "source": [
    "<center>\n",
    "    <h1>JaxTon</h1>\n",
    "    <i>💯 JAX exercises</i>\n",
    "    <br>\n",
    "    <br>\n",
    "    <a href='https://github.com/vopani/jaxton/blob/master/LICENSE'>\n",
    "        <img src='https://img.shields.io/badge/license-Apache%202.0-blue.svg?logo=apache'>\n",
    "    </a>\n",
    "    <a href='https://github.com/vopani/jaxton'>\n",
    "        <img src='https://img.shields.io/github/stars/vopani/jaxton?color=yellowgreen&logo=github'>\n",
    "    </a>\n",
    "    <a href='https://twitter.com/vopani'>\n",
    "        <img src='https://img.shields.io/twitter/follow/vopani'>\n",
    "    </a>\n",
    "</center>"
   ]
  },
  {
   "cell_type": "markdown",
   "metadata": {},
   "source": [
    "<center>\n",
    "    This is Set 4: Just-In-Time (JIT) Compilation (Exercises 31-40) of <b>JaxTon</b>: <i>💯 JAX exercises</i>\n",
    "    <br>\n",
    "    You can find all the exercises and solutions on <a href=\"https://github.com/vopani/jaxton#exercises-\">GitHub</a>\n",
    "</center>"
   ]
  },
  {
   "cell_type": "markdown",
   "metadata": {},
   "source": [
    "**Prerequisites**\n",
    "\n",
    "* The configuration of jax should be set as shown in the code snippet below in order to use TPUs.\n",
    "* A sample function `cube` will be used for the exercises."
   ]
  },
  {
   "cell_type": "code",
   "execution_count": null,
   "metadata": {
    "_kg_hide-input": true,
    "_kg_hide-output": true,
    "execution": {
     "iopub.execute_input": "2022-02-10T05:25:42.285820Z",
     "iopub.status.busy": "2022-02-10T05:25:42.285455Z",
     "iopub.status.idle": "2022-02-10T05:25:51.615891Z",
     "shell.execute_reply": "2022-02-10T05:25:51.614773Z",
     "shell.execute_reply.started": "2022-02-10T05:25:42.285734Z"
    }
   },
   "outputs": [],
   "source": [
    "!python3 -m pip install jax"
   ]
  },
  {
   "cell_type": "code",
   "execution_count": 1,
   "metadata": {
    "_kg_hide-input": true,
    "execution": {
     "iopub.execute_input": "2022-02-10T05:25:51.618660Z",
     "iopub.status.busy": "2022-02-10T05:25:51.617977Z",
     "iopub.status.idle": "2022-02-10T05:26:30.210291Z",
     "shell.execute_reply": "2022-02-10T05:26:30.209198Z",
     "shell.execute_reply.started": "2022-02-10T05:25:51.618620Z"
    }
   },
   "outputs": [
    {
     "data": {
      "text/plain": [
       "[GpuDevice(id=0, process_index=0)]"
      ]
     },
     "execution_count": 1,
     "metadata": {},
     "output_type": "execute_result"
    }
   ],
   "source": [
    "import jax\n",
    "import jax.numpy as jnp\n",
    "import os\n",
    "import requests\n",
    "\n",
    "try:\n",
    "    url = 'http:' + os.environ['TPU_NAME'].split(':')[1] + ':8475/requestversion/tpu_driver_nightly'\n",
    "    resp = requests.post(url)\n",
    "    jax.config.FLAGS.jax_xla_backend = 'tpu_driver'\n",
    "    jax.config.FLAGS.jax_backend_target = os.environ['TPU_NAME']\n",
    "except:\n",
    "    pass\n",
    "\n",
    "jax.devices()"
   ]
  },
  {
   "cell_type": "code",
   "execution_count": 2,
   "metadata": {
    "execution": {
     "iopub.execute_input": "2022-02-10T05:26:30.212385Z",
     "iopub.status.busy": "2022-02-10T05:26:30.212059Z",
     "iopub.status.idle": "2022-02-10T05:26:30.220977Z",
     "shell.execute_reply": "2022-02-10T05:26:30.219774Z",
     "shell.execute_reply.started": "2022-02-10T05:26:30.212342Z"
    }
   },
   "outputs": [
    {
     "data": {
      "text/plain": [
       "9.261000000000001"
      ]
     },
     "execution_count": 2,
     "metadata": {},
     "output_type": "execute_result"
    }
   ],
   "source": [
    "def cube(x):\n",
    "    return x**3\n",
    "\n",
    "cube(2.1)"
   ]
  },
  {
   "cell_type": "markdown",
   "metadata": {},
   "source": [
    "**Exercise 31: JIT-compile the `cube` function and assign it to `cube_jit`**"
   ]
  },
  {
   "cell_type": "code",
   "execution_count": 3,
   "metadata": {
    "execution": {
     "iopub.execute_input": "2022-02-10T05:26:30.223901Z",
     "iopub.status.busy": "2022-02-10T05:26:30.223307Z",
     "iopub.status.idle": "2022-02-10T05:26:30.236179Z",
     "shell.execute_reply": "2022-02-10T05:26:30.235127Z",
     "shell.execute_reply.started": "2022-02-10T05:26:30.223839Z"
    }
   },
   "outputs": [
    {
     "data": {
      "text/plain": [
       "<CompiledFunction of <function cube at 0x7fa81eee2550>>"
      ]
     },
     "execution_count": 3,
     "metadata": {},
     "output_type": "execute_result"
    }
   ],
   "source": [
    "cube_jit = jax.jit(cube)\n",
    "cube_jit"
   ]
  },
  {
   "cell_type": "markdown",
   "metadata": {},
   "source": [
    "**Exercise 32: Display execution time of `cube_jit` for first run (with overhead) with input=10.24**"
   ]
  },
  {
   "cell_type": "code",
   "execution_count": 5,
   "metadata": {
    "execution": {
     "iopub.execute_input": "2022-02-10T05:26:30.238623Z",
     "iopub.status.busy": "2022-02-10T05:26:30.237821Z",
     "iopub.status.idle": "2022-02-10T05:26:30.620374Z",
     "shell.execute_reply": "2022-02-10T05:26:30.619339Z",
     "shell.execute_reply.started": "2022-02-10T05:26:30.238581Z"
    }
   },
   "outputs": [
    {
     "name": "stdout",
     "output_type": "stream",
     "text": [
      "CPU times: user 47.7 ms, sys: 55.7 ms, total: 103 ms\n",
      "Wall time: 133 ms\n"
     ]
    },
    {
     "data": {
      "text/plain": [
       "DeviceArray(1073.7418, dtype=float32, weak_type=True)"
      ]
     },
     "execution_count": 5,
     "metadata": {},
     "output_type": "execute_result"
    }
   ],
   "source": [
    "%%time\n",
    "cube_jit(10.24)"
   ]
  },
  {
   "cell_type": "markdown",
   "metadata": {},
   "source": [
    "**Exercise 33: Display execution time of `cube_jit` for second run (without overhead) with input=10.24**"
   ]
  },
  {
   "cell_type": "code",
   "execution_count": 6,
   "metadata": {
    "execution": {
     "iopub.execute_input": "2022-02-10T05:26:30.622140Z",
     "iopub.status.busy": "2022-02-10T05:26:30.621574Z",
     "iopub.status.idle": "2022-02-10T05:26:30.668836Z",
     "shell.execute_reply": "2022-02-10T05:26:30.667929Z",
     "shell.execute_reply.started": "2022-02-10T05:26:30.622095Z"
    }
   },
   "outputs": [
    {
     "name": "stdout",
     "output_type": "stream",
     "text": [
      "CPU times: user 1.6 ms, sys: 10 ms, total: 11.6 ms\n",
      "Wall time: 11.1 ms\n"
     ]
    },
    {
     "data": {
      "text/plain": [
       "DeviceArray(1073.7418, dtype=float32, weak_type=True)"
      ]
     },
     "execution_count": 6,
     "metadata": {},
     "output_type": "execute_result"
    }
   ],
   "source": [
    "%%time\n",
    "cube_jit(10.24)"
   ]
  },
  {
   "cell_type": "markdown",
   "metadata": {},
   "source": [
    "**Exercise 34: Run `cube_jit` with input=10.24 and assign it to `cube_value`**"
   ]
  },
  {
   "cell_type": "code",
   "execution_count": 8,
   "metadata": {
    "execution": {
     "iopub.execute_input": "2022-02-10T05:26:30.671132Z",
     "iopub.status.busy": "2022-02-10T05:26:30.670322Z",
     "iopub.status.idle": "2022-02-10T05:26:30.720464Z",
     "shell.execute_reply": "2022-02-10T05:26:30.719396Z",
     "shell.execute_reply.started": "2022-02-10T05:26:30.671088Z"
    }
   },
   "outputs": [
    {
     "data": {
      "text/plain": [
       "DeviceArray(1073.7418, dtype=float32, weak_type=True)"
      ]
     },
     "execution_count": 8,
     "metadata": {},
     "output_type": "execute_result"
    }
   ],
   "source": [
    "cube_value = cube_jit(10.24)\n",
    "cube_value"
   ]
  },
  {
   "cell_type": "markdown",
   "metadata": {},
   "source": [
    "**Exercise 35: Run `cube_jit` with jit disabled and input=10.24 and assign it to `cube_value_nojit`**"
   ]
  },
  {
   "cell_type": "code",
   "execution_count": 9,
   "metadata": {
    "execution": {
     "iopub.execute_input": "2022-02-10T05:26:30.722177Z",
     "iopub.status.busy": "2022-02-10T05:26:30.721765Z",
     "iopub.status.idle": "2022-02-10T05:26:30.730658Z",
     "shell.execute_reply": "2022-02-10T05:26:30.729319Z",
     "shell.execute_reply.started": "2022-02-10T05:26:30.722137Z"
    }
   },
   "outputs": [
    {
     "data": {
      "text/plain": [
       "1073.7418240000002"
      ]
     },
     "execution_count": 9,
     "metadata": {},
     "output_type": "execute_result"
    }
   ],
   "source": [
    "with jax.disable_jit():\n",
    "    cube_value_nojit = cube_jit(10.24)\n",
    "\n",
    "cube_value_nojit"
   ]
  },
  {
   "cell_type": "markdown",
   "metadata": {},
   "source": [
    "**Exercise 36: Evaluate the shape of `cube_jit` with input=10.24 and assign it to `cube_shape`**"
   ]
  },
  {
   "cell_type": "code",
   "execution_count": 12,
   "metadata": {
    "execution": {
     "iopub.execute_input": "2022-02-10T05:26:30.732780Z",
     "iopub.status.busy": "2022-02-10T05:26:30.732309Z",
     "iopub.status.idle": "2022-02-10T05:26:30.744765Z",
     "shell.execute_reply": "2022-02-10T05:26:30.743748Z",
     "shell.execute_reply.started": "2022-02-10T05:26:30.732722Z"
    }
   },
   "outputs": [
    {
     "data": {
      "text/plain": [
       "ShapeDtypeStruct(shape=(), dtype=float32)"
      ]
     },
     "execution_count": 12,
     "metadata": {},
     "output_type": "execute_result"
    }
   ],
   "source": [
    "cube_shape = jax.eval_shape(cube_jit, 10.24)\n",
    "cube_shape"
   ]
  },
  {
   "cell_type": "markdown",
   "metadata": {},
   "source": [
    "**Exercise 37: Create the jaxpr of `cube_jit` with input=10.24 and assign it to `cube_jaxpr`**"
   ]
  },
  {
   "cell_type": "code",
   "execution_count": 14,
   "metadata": {
    "execution": {
     "iopub.execute_input": "2022-02-10T05:26:30.750998Z",
     "iopub.status.busy": "2022-02-10T05:26:30.747577Z",
     "iopub.status.idle": "2022-02-10T05:26:30.760923Z",
     "shell.execute_reply": "2022-02-10T05:26:30.759900Z",
     "shell.execute_reply.started": "2022-02-10T05:26:30.750951Z"
    }
   },
   "outputs": [
    {
     "data": {
      "text/plain": [
       "{ lambda ; a:f32[]. let\n",
       "    b:f32[] = xla_call[\n",
       "      call_jaxpr={ lambda ; c:f32[]. let d:f32[] = integer_pow[y=3] c in (d,) }\n",
       "      name=cube\n",
       "    ] a\n",
       "  in (b,) }"
      ]
     },
     "execution_count": 14,
     "metadata": {},
     "output_type": "execute_result"
    }
   ],
   "source": [
    "cube_jaxpr = jax.make_jaxpr(cube_jit)(10.24)\n",
    "cube_jaxpr"
   ]
  },
  {
   "cell_type": "markdown",
   "metadata": {},
   "source": [
    "**Exercise 38: Assign the XLA computation of `cube_jit` with input=10.24 to `cube_xla` and print it's XLA HLO text**"
   ]
  },
  {
   "cell_type": "code",
   "execution_count": 16,
   "metadata": {
    "execution": {
     "iopub.execute_input": "2022-02-10T05:26:30.763170Z",
     "iopub.status.busy": "2022-02-10T05:26:30.762254Z",
     "iopub.status.idle": "2022-02-10T05:26:30.793578Z",
     "shell.execute_reply": "2022-02-10T05:26:30.792520Z",
     "shell.execute_reply.started": "2022-02-10T05:26:30.763130Z"
    }
   },
   "outputs": [
    {
     "name": "stdout",
     "output_type": "stream",
     "text": [
      "HloModule xla_computation_cube__1.10\n",
      "\n",
      "jit_cube__1.3 {\n",
      "  constant.5 = pred[] constant(false)\n",
      "  parameter.4 = f32[] parameter(0)\n",
      "  multiply.6 = f32[] multiply(parameter.4, parameter.4)\n",
      "  ROOT multiply.7 = f32[] multiply(parameter.4, multiply.6)\n",
      "}\n",
      "\n",
      "ENTRY xla_computation_cube__1.10 {\n",
      "  constant.2 = pred[] constant(false)\n",
      "  parameter.1 = f32[] parameter(0)\n",
      "  call.8 = f32[] call(parameter.1), to_apply=jit_cube__1.3\n",
      "  ROOT tuple.9 = (f32[]) tuple(call.8)\n",
      "}\n",
      "\n",
      "\n"
     ]
    }
   ],
   "source": [
    "cube_xla = jax.xla_computation(cube_jit)(10.24)\n",
    "print(cube_xla.as_hlo_text())"
   ]
  },
  {
   "cell_type": "markdown",
   "metadata": {},
   "source": [
    "**Exercise 39: Use the name `jaxton_cube_fn` internally for the `cube_jit` function and assign the named function to `cube_named_jit`**"
   ]
  },
  {
   "cell_type": "code",
   "execution_count": 17,
   "metadata": {
    "execution": {
     "iopub.execute_input": "2022-02-10T05:26:30.795363Z",
     "iopub.status.busy": "2022-02-10T05:26:30.794947Z",
     "iopub.status.idle": "2022-02-10T05:26:30.806783Z",
     "shell.execute_reply": "2022-02-10T05:26:30.805669Z",
     "shell.execute_reply.started": "2022-02-10T05:26:30.795323Z"
    }
   },
   "outputs": [
    {
     "data": {
      "text/plain": [
       "<function __main__.cube(x)>"
      ]
     },
     "execution_count": 17,
     "metadata": {},
     "output_type": "execute_result"
    }
   ],
   "source": [
    "cube_named_jit = jax.named_call(cube_jit, name='jaxton_cube_fn')\n",
    "cube_named_jit"
   ]
  },
  {
   "cell_type": "markdown",
   "metadata": {},
   "source": [
    "**Exercise 40: Assign the XLA computation of `cube_named_jit` with input=10.24 to `cube_named_xla` and print it's XLA HLO text**"
   ]
  },
  {
   "cell_type": "code",
   "execution_count": 18,
   "metadata": {
    "execution": {
     "iopub.execute_input": "2022-02-10T05:26:30.809081Z",
     "iopub.status.busy": "2022-02-10T05:26:30.808232Z",
     "iopub.status.idle": "2022-02-10T05:26:30.824095Z",
     "shell.execute_reply": "2022-02-10T05:26:30.823076Z",
     "shell.execute_reply.started": "2022-02-10T05:26:30.809039Z"
    }
   },
   "outputs": [
    {
     "name": "stdout",
     "output_type": "stream",
     "text": [
      "HloModule xla_computation_cube__2.14\n",
      "\n",
      "jit_cube__2.3 {\n",
      "  constant.5 = pred[] constant(false)\n",
      "  parameter.4 = f32[] parameter(0)\n",
      "  multiply.6 = f32[] multiply(parameter.4, parameter.4)\n",
      "  ROOT multiply.7 = f32[] multiply(parameter.4, multiply.6)\n",
      "}\n",
      "\n",
      "jaxton_cube_fn.8 {\n",
      "  constant.10 = pred[] constant(false)\n",
      "  parameter.9 = f32[] parameter(0)\n",
      "  ROOT call.11 = f32[] call(parameter.9), to_apply=jit_cube__2.3\n",
      "}\n",
      "\n",
      "ENTRY xla_computation_cube__2.14 {\n",
      "  constant.2 = pred[] constant(false)\n",
      "  parameter.1 = f32[] parameter(0)\n",
      "  call.12 = f32[] call(parameter.1), to_apply=jaxton_cube_fn.8\n",
      "  ROOT tuple.13 = (f32[]) tuple(call.12)\n",
      "}\n",
      "\n",
      "\n"
     ]
    }
   ],
   "source": [
    "cube_named_xla = jax.xla_computation(cube_named_jit)(10.24)\n",
    "print(cube_named_xla.as_hlo_text())"
   ]
  },
  {
   "cell_type": "markdown",
   "metadata": {},
   "source": [
    "<center>\n",
    "    This completes Set 4: Just-In-Time (JIT) Compilation (Exercises 31-40) of <b>JaxTon</b>: <i>💯 JAX exercises</i>\n",
    "    <br>\n",
    "    You can find all the exercises and solutions on <a href=\"https://github.com/vopani/jaxton#exercises-\">GitHub</a>\n",
    "</center>"
   ]
  }
 ],
 "metadata": {
  "kernelspec": {
   "display_name": "Python 3 (ipykernel)",
   "language": "python",
   "name": "python3"
  },
  "language_info": {
   "codemirror_mode": {
    "name": "ipython",
    "version": 3
   },
   "file_extension": ".py",
   "mimetype": "text/x-python",
   "name": "python",
   "nbconvert_exporter": "python",
   "pygments_lexer": "ipython3",
   "version": "3.9.7"
  }
 },
 "nbformat": 4,
 "nbformat_minor": 4
}
